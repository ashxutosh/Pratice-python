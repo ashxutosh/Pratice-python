{
 "cells": [
  {
   "cell_type": "code",
   "execution_count": 4,
   "id": "1ac8bc9f",
   "metadata": {},
   "outputs": [
    {
     "ename": "SyntaxError",
     "evalue": "invalid syntax (1375336823.py, line 2)",
     "output_type": "error",
     "traceback": [
      "\u001b[1;36m  Input \u001b[1;32mIn [4]\u001b[1;36m\u001b[0m\n\u001b[1;33m    print(list2.split(@))\u001b[0m\n\u001b[1;37m                      ^\u001b[0m\n\u001b[1;31mSyntaxError\u001b[0m\u001b[1;31m:\u001b[0m invalid syntax\n"
     ]
    }
   ],
   "source": [
    "list2=[\"turboslayer@gmail.com\",\"someone@outlook.com\"]\n",
    "print(list2.split(@))"
   ]
  },
  {
   "cell_type": "code",
   "execution_count": 6,
   "id": "ecfc6dac",
   "metadata": {},
   "outputs": [
    {
     "name": "stdout",
     "output_type": "stream",
     "text": [
      "['turboslayer', 'gmail.com']\n"
     ]
    }
   ],
   "source": [
    "var2=\"turboslayer@gmail.com\"\n",
    "print(var2.split(\"@\"))"
   ]
  },
  {
   "cell_type": "code",
   "execution_count": 4,
   "id": "1b42a16b",
   "metadata": {},
   "outputs": [],
   "source": [
    "var2=\"\"\"turboslayer@gmail.com \n",
    "someone@outlook.com\n",
    "crashtv@gov.in \n",
    "blue_defender@gmail.com \n",
    "logan@yahoo.com\n",
    "ironmerc@gov.in\n",
    "steeltitan@outlook.com\n",
    "stealthedefender@yahoo.com\n",
    "blaze_assault@gov.in\n",
    "venom_fate@yahoo.com\n",
    "dark_side@yahoo.com\n",
    "fataldestiny@yahoo.com\n",
    "ultimatebeast@outlook.com\n",
    "masked_titan@gmail.com\n",
    "frozen_gunner@yahoo.com\n",
    "username_copied@gov.in\n",
    "whos_ur_buddy@outlook.com\n",
    "unfinished_sentenc@gov.in\n",
    "all_gone@gov.in\n",
    "something@gmail.com\n",
    "president@gmail.com\n",
    "tinfoilhat@gmail.com\n",
    "anonymouse@yahoo.com\n",
    "definitely_not_an_athlete@outlook.com\n",
    "dropout@gov.in\n",
    "paw_friend@outlook.com\n",
    "test_name_please_ignore@gov.in\n",
    "heyyou@gov.in\n",
    "a_distraction@yahoo.com\n",
    "thegodfatherpart4@gov.in\n",
    "unfriendme@outlook.com\n",
    "doodles@gmail.com\n",
    "fluffycookie@yahoo.com\n",
    "theintolerant@gmail.com\n",
    "fourhour@yahoo.com\n",
    "toastedwithcheese@gmail.com\n",
    "futureking@yahoo.com\n",
    "coolshirtbruh@outlook.com\n",
    "kentucky@yahoo.com\n",
    "chocolate@gmail.com\n",
    "saintbroseph@yahoo.com\n",
    "just_chillin@gmail.com\n",
    "ghostface@gov.in\n",
    "bigfootisreal@yahoo.com\n",
    "newbie@yahoo.com\n",
    "alienware@outlook.com\n",
    "chrishemsworth@outlook.com\n",
    "nachocheesefries@outlook.com\n",
    "reginageorge@gov.in\n",
    "harmless_potato@outlook.com\n",
    "frostedcupcake@outlook.com\n",
    "avocadorable@outlook.com\n",
    "pixie_dust@gmail.com\n",
    "chopsuey@yahoo.com\n",
    "iron_man@gov.in\n",
    "lemon_ade@outlook.com\n",
    "cerial_killer@outlook.com\n",
    "light_year@gov.in\n",
    "phoenix@outlook.com\n",
    "harry_potter@outlook.com\"\"\""
   ]
  },
  {
   "cell_type": "code",
   "execution_count": 12,
   "id": "c75258c6",
   "metadata": {},
   "outputs": [
    {
     "name": "stdout",
     "output_type": "stream",
     "text": [
      "12\n"
     ]
    }
   ],
   "source": [
    "print(var2.count(\"gmail\"))"
   ]
  },
  {
   "cell_type": "code",
   "execution_count": 11,
   "id": "b2022e0e",
   "metadata": {},
   "outputs": [
    {
     "name": "stdout",
     "output_type": "stream",
     "text": [
      "['turboslayer', 'gmail.com someone', 'outlook.comcrashtv', 'gov.in \\nblue_defender', 'gmail.com \\nlogan', 'yahoo.com\\nironmerc', 'gov.in\\nsteeltitan', 'outlook.com\\nstealthedefender', 'yahoo.com\\nblaze_assault', 'gov.in\\nvenom_fate', 'yahoo.com\\ndark_side', 'yahoo.com\\nfataldestiny', 'yahoo.com\\nultimatebeast', 'outlook.com\\nmasked_titan', 'gmail.com\\nfrozen_gunner', 'yahoo.com\\nusername_copied', 'gov.in\\nwhos_ur_buddy', 'outlook.com\\nunfinished_sentenc', 'gov.in\\nall_gone', 'gov.in\\nsomething', 'gmail.com\\npresident', 'gmail.com\\ntinfoilhat', 'gmail.com\\nanonymouse', 'yahoo.com\\ndefinitely_not_an_athlete', 'outlook.com\\ndropout', 'gov.in\\npaw_friend', 'outlook.com\\ntest_name_please_ignore', 'gov.in\\nheyyou', 'gov.in\\na_distraction', 'yahoo.com\\nthegodfatherpart4', 'gov.in\\nunfriendme', 'outlook.com\\ndoodles', 'gmail.com\\nfluffycookie', 'yahoo.com\\ntheintolerant', 'gmail.com\\nfourhour', 'yahoo.com\\ntoastedwithcheese', 'gmail.com\\nfutureking', 'yahoo.com\\ncoolshirtbruh', 'outlook.com\\nkentucky', 'yahoo.com\\nchocolate', 'gmail.com\\nsaintbroseph', 'yahoo.com\\njust_chillin', 'gmail.com\\nghostface', 'gov.in\\nbigfootisreal', 'yahoo.com\\nnewbie', 'yahoo.com\\nalienware', 'outlook.com\\nchrishemsworth', 'outlook.com\\nnachocheesefries', 'outlook.com\\nreginageorge', 'gov.in\\nharmless_potato', 'outlook.com\\nfrostedcupcake', 'outlook.com\\navocadorable', 'outlook.com\\npixie_dust', 'gmail.com\\nchopsuey', 'yahoo.com\\niron_man', 'gov.in\\nlemon_ade', 'outlook.com\\ncerial_killer', 'outlook.com\\nlight_year', 'gov.in\\nphoenix', 'outlook.com\\nharry_potter', 'outlook.com']\n",
      "<class 'list'>\n",
      "outlook: 18\n",
      "gmail: 12\n",
      "yahoo : 16\n",
      "gov : 14\n"
     ]
    }
   ],
   "source": [
    "\n",
    "print(var2.split(\"@\"))\n",
    "print(type(var2.split(\"@\")))\n",
    "print(\"outlook:\",var2.count(\"outlook\"))\n",
    "print(\"gmail:\",var2.count(\"gmail\"))\n",
    "print(\"yahoo :\",var2.count(\"yahoo\"))\n",
    "print(\"gov :\",var2.count(\"gov.in\"))\n"
   ]
  },
  {
   "cell_type": "code",
   "execution_count": 21,
   "id": "d6bddb22",
   "metadata": {},
   "outputs": [],
   "source": [
    "list6=list(var2.split(\"@\"))"
   ]
  },
  {
   "cell_type": "code",
   "execution_count": 22,
   "id": "3b0870ae",
   "metadata": {},
   "outputs": [
    {
     "name": "stdout",
     "output_type": "stream",
     "text": [
      "['turboslayer', 'gmail.com someone', 'outlook.comcrashtv', 'gov.in \\nblue_defender', 'gmail.com \\nlogan', 'yahoo.com\\nironmerc', 'gov.in\\nsteeltitan', 'outlook.com\\nstealthedefender', 'yahoo.com\\nblaze_assault', 'gov.in\\nvenom_fate', 'yahoo.com\\ndark_side', 'yahoo.com\\nfataldestiny', 'yahoo.com\\nultimatebeast', 'outlook.com\\nmasked_titan', 'gmail.com\\nfrozen_gunner', 'yahoo.com\\nusername_copied', 'gov.in\\nwhos_ur_buddy', 'outlook.com\\nunfinished_sentenc', 'gov.in\\nall_gone', 'gov.in\\nsomething', 'gmail.com\\npresident', 'gmail.com\\ntinfoilhat', 'gmail.com\\nanonymouse', 'yahoo.com\\ndefinitely_not_an_athlete', 'outlook.com\\ndropout', 'gov.in\\npaw_friend', 'outlook.com\\ntest_name_please_ignore', 'gov.in\\nheyyou', 'gov.in\\na_distraction', 'yahoo.com\\nthegodfatherpart4', 'gov.in\\nunfriendme', 'outlook.com\\ndoodles', 'gmail.com\\nfluffycookie', 'yahoo.com\\ntheintolerant', 'gmail.com\\nfourhour', 'yahoo.com\\ntoastedwithcheese', 'gmail.com\\nfutureking', 'yahoo.com\\ncoolshirtbruh', 'outlook.com\\nkentucky', 'yahoo.com\\nchocolate', 'gmail.com\\nsaintbroseph', 'yahoo.com\\njust_chillin', 'gmail.com\\nghostface', 'gov.in\\nbigfootisreal', 'yahoo.com\\nnewbie', 'yahoo.com\\nalienware', 'outlook.com\\nchrishemsworth', 'outlook.com\\nnachocheesefries', 'outlook.com\\nreginageorge', 'gov.in\\nharmless_potato', 'outlook.com\\nfrostedcupcake', 'outlook.com\\navocadorable', 'outlook.com\\npixie_dust', 'gmail.com\\nchopsuey', 'yahoo.com\\niron_man', 'gov.in\\nlemon_ade', 'outlook.com\\ncerial_killer', 'outlook.com\\nlight_year', 'gov.in\\nphoenix', 'outlook.com\\nharry_potter', 'outlook.com']\n"
     ]
    }
   ],
   "source": [
    "print(list6)"
   ]
  },
  {
   "cell_type": "code",
   "execution_count": 23,
   "id": "0ab30003",
   "metadata": {},
   "outputs": [
    {
     "name": "stdout",
     "output_type": "stream",
     "text": [
      "['turboslayer', 'gmail.com someone', 'outlook.comcrashtv', 'gov.in \\nblue_defender', 'gmail.com \\nlogan', 'yahoo.com\\nironmerc', 'gov.in\\nsteeltitan', 'outlook.com\\nstealthedefender', 'yahoo.com\\nblaze_assault', 'gov.in\\nvenom_fate', 'yahoo.com\\ndark_side', 'yahoo.com\\nfataldestiny', 'yahoo.com\\nultimatebeast', 'outlook.com\\nmasked_titan', 'gmail.com\\nfrozen_gunner', 'yahoo.com\\nusername_copied', 'gov.in\\nwhos_ur_buddy', 'outlook.com\\nunfinished_sentenc', 'gov.in\\nall_gone', 'gov.in\\nsomething', 'gmail.com\\npresident', 'gmail.com\\ntinfoilhat', 'gmail.com\\nanonymouse', 'yahoo.com\\ndefinitely_not_an_athlete', 'outlook.com\\ndropout', 'gov.in\\npaw_friend', 'outlook.com\\ntest_name_please_ignore', 'gov.in\\nheyyou', 'gov.in\\na_distraction', 'yahoo.com\\nthegodfatherpart4', 'gov.in\\nunfriendme', 'outlook.com\\ndoodles', 'gmail.com\\nfluffycookie', 'yahoo.com\\ntheintolerant', 'gmail.com\\nfourhour', 'yahoo.com\\ntoastedwithcheese', 'gmail.com\\nfutureking', 'yahoo.com\\ncoolshirtbruh', 'outlook.com\\nkentucky', 'yahoo.com\\nchocolate', 'gmail.com\\nsaintbroseph', 'yahoo.com\\njust_chillin', 'gmail.com\\nghostface', 'gov.in\\nbigfootisreal', 'yahoo.com\\nnewbie', 'yahoo.com\\nalienware', 'outlook.com\\nchrishemsworth', 'outlook.com\\nnachocheesefries', 'outlook.com\\nreginageorge', 'gov.in\\nharmless_potato', 'outlook.com\\nfrostedcupcake', 'outlook.com\\navocadorable', 'outlook.com\\npixie_dust', 'gmail.com\\nchopsuey', 'yahoo.com\\niron_man', 'gov.in\\nlemon_ade', 'outlook.com\\ncerial_killer', 'outlook.com\\nlight_year', 'gov.in\\nphoenix', 'outlook.com\\nharry_potter', 'outlook.com']\n"
     ]
    }
   ],
   "source": [
    "b=[]\n",
    "for i in list6:\n",
    " b+=i.split(\"\\\\n\\n\")\n",
    "print(b)"
   ]
  },
  {
   "cell_type": "code",
   "execution_count": 19,
   "id": "55164e26",
   "metadata": {},
   "outputs": [
    {
     "name": "stdout",
     "output_type": "stream",
     "text": [
      "['turboslayer', 'gmail.com\\nsomeone', 'outlook.com\\ncrashtv', 'gov.in\\nblue_defender', 'gmail.com\\nlogan', 'yahoo.com\\nironmerc', 'gov.in\\nsteeltitan', 'outlook.com\\nstealthedefender', 'yahoo.com\\nblaze_assault', 'gov.in\\nvenom_fate', 'yahoo.com\\ndark_side', 'yahoo.com\\nfataldestiny', 'yahoo.com\\nultimatebeast', 'outlook.com\\nmasked_titan', 'gmail.com\\nfrozen_gunner', 'yahoo.com\\nusername_copied', 'gov.in\\nwhos_ur_buddy', 'outlook.com\\nunfinished_sentenc', 'gov.in\\nall_gone', 'gov.in\\nsomething', 'gmail.com\\npresident', 'gmail.com\\ntinfoilhat', 'gmail.com\\nanonymouse', 'yahoo.com\\ndefinitely_not_an_athlete', 'outlook.com\\ndropout', 'gov.in\\npaw_friend', 'outlook.com\\ntest_name_please_ignore', 'gov.in\\nheyyou', 'gov.in\\na_distraction', 'yahoo.com\\nthegodfatherpart4', 'gov.in\\nunfriendme', 'outlook.com\\ndoodles', 'gmail.com\\nfluffycookie', 'yahoo.com\\ntheintolerant', 'gmail.com\\nfourhour', 'yahoo.com\\ntoastedwithcheese', 'gmail.com\\nfutureking', 'yahoo.com\\ncoolshirtbruh', 'outlook.com\\nkentucky', 'yahoo.com\\nchocolate', 'gmail.com\\nsaintbroseph', 'yahoo.com\\njust_chillin', 'gmail.com\\nghostface', 'gov.in\\nbigfootisreal', 'yahoo.com\\nnewbie', 'yahoo.com\\nalienware', 'outlook.com\\nchrishemsworth', 'outlook.com\\nnachocheesefries', 'outlook.com\\nreginageorge', 'gov.in\\nharmless_potato', 'outlook.com\\nfrostedcupcake', 'outlook.com\\navocadorable', 'outlook.com\\npixie_dust', 'gmail.com\\nchopsuey', 'yahoo.com\\niron_man', 'gov.in\\nlemon_ade', 'outlook.com\\ncerial_killer', 'outlook.com\\nlight_year', 'gov.in\\nphoenix', 'outlook.com\\nharry_potter', 'outlook.com']\n"
     ]
    }
   ],
   "source": [
    "c=[]\n",
    "for i in b:\n",
    " c+=i.split(\"\\\\n\")\n",
    "print(c)"
   ]
  },
  {
   "cell_type": "code",
   "execution_count": 15,
   "id": "c202adc0",
   "metadata": {},
   "outputs": [
    {
     "name": "stdout",
     "output_type": "stream",
     "text": [
      "<built-in method sort of list object at 0x0000022375B81180>\n"
     ]
    }
   ],
   "source": [
    "print(list6.sort)"
   ]
  },
  {
   "cell_type": "code",
   "execution_count": null,
   "id": "baf27f3a",
   "metadata": {},
   "outputs": [],
   "source": []
  },
  {
   "cell_type": "code",
   "execution_count": 16,
   "id": "fdbb9b1b",
   "metadata": {},
   "outputs": [
    {
     "name": "stdout",
     "output_type": "stream",
     "text": [
      "['t', 'u', 'r', 'b', 'o', 's', 'l', 'a', 'y', 'e', 'r', '@', 'g', 'm', 'a', 'i', 'l', '.', 'c', 'o', 'm', ' ', '\\n', '\\n', 's', 'o', 'm', 'e', 'o', 'n', 'e', '@', 'o', 'u', 't', 'l', 'o', 'o', 'k', '.', 'c', 'o', 'm', ' ', '\\n', '\\n', 'c', 'r', 'a', 's', 'h', 't', 'v', '@', 'g', 'o', 'v', '.', 'i', 'n', ' ', '\\n', '\\n', 'b', 'l', 'u', 'e', '_', 'd', 'e', 'f', 'e', 'n', 'd', 'e', 'r', '@', 'g', 'm', 'a', 'i', 'l', '.', 'c', 'o', 'm', ' ', '\\n', '\\n', 'l', 'o', 'g', 'a', 'n', '@', 'y', 'a', 'h', 'o', 'o', '.', 'c', 'o', 'm', '\\n', 'i', 'r', 'o', 'n', 'm', 'e', 'r', 'c', '@', 'g', 'o', 'v', '.', 'i', 'n', '\\n', 's', 't', 'e', 'e', 'l', 't', 'i', 't', 'a', 'n', '@', 'o', 'u', 't', 'l', 'o', 'o', 'k', '.', 'c', 'o', 'm', '\\n', 's', 't', 'e', 'a', 'l', 't', 'h', 'e', 'd', 'e', 'f', 'e', 'n', 'd', 'e', 'r', '@', 'y', 'a', 'h', 'o', 'o', '.', 'c', 'o', 'm', '\\n', 'b', 'l', 'a', 'z', 'e', '_', 'a', 's', 's', 'a', 'u', 'l', 't', '@', 'g', 'o', 'v', '.', 'i', 'n', '\\n', 'v', 'e', 'n', 'o', 'm', '_', 'f', 'a', 't', 'e', '@', 'y', 'a', 'h', 'o', 'o', '.', 'c', 'o', 'm', '\\n', 'd', 'a', 'r', 'k', '_', 's', 'i', 'd', 'e', '@', 'y', 'a', 'h', 'o', 'o', '.', 'c', 'o', 'm', '\\n', 'f', 'a', 't', 'a', 'l', 'd', 'e', 's', 't', 'i', 'n', 'y', '@', 'y', 'a', 'h', 'o', 'o', '.', 'c', 'o', 'm', '\\n', 'u', 'l', 't', 'i', 'm', 'a', 't', 'e', 'b', 'e', 'a', 's', 't', '@', 'o', 'u', 't', 'l', 'o', 'o', 'k', '.', 'c', 'o', 'm', '\\n', 'm', 'a', 's', 'k', 'e', 'd', '_', 't', 'i', 't', 'a', 'n', '@', 'g', 'm', 'a', 'i', 'l', '.', 'c', 'o', 'm', '\\n', 'f', 'r', 'o', 'z', 'e', 'n', '_', 'g', 'u', 'n', 'n', 'e', 'r', '@', 'y', 'a', 'h', 'o', 'o', '.', 'c', 'o', 'm', '\\n', 'u', 's', 'e', 'r', 'n', 'a', 'm', 'e', '_', 'c', 'o', 'p', 'i', 'e', 'd', '@', 'g', 'o', 'v', '.', 'i', 'n', '\\n', 'w', 'h', 'o', 's', '_', 'u', 'r', '_', 'b', 'u', 'd', 'd', 'y', '@', 'o', 'u', 't', 'l', 'o', 'o', 'k', '.', 'c', 'o', 'm', '\\n', 'u', 'n', 'f', 'i', 'n', 'i', 's', 'h', 'e', 'd', '_', 's', 'e', 'n', 't', 'e', 'n', 'c', '@', 'g', 'o', 'v', '.', 'i', 'n', '\\n', 'a', 'l', 'l', '_', 'g', 'o', 'n', 'e', '@', 'g', 'o', 'v', '.', 'i', 'n', '\\n', 's', 'o', 'm', 'e', 't', 'h', 'i', 'n', 'g', '@', 'g', 'm', 'a', 'i', 'l', '.', 'c', 'o', 'm', '\\n', 'p', 'r', 'e', 's', 'i', 'd', 'e', 'n', 't', '@', 'g', 'm', 'a', 'i', 'l', '.', 'c', 'o', 'm', '\\n', 't', 'i', 'n', 'f', 'o', 'i', 'l', 'h', 'a', 't', '@', 'g', 'm', 'a', 'i', 'l', '.', 'c', 'o', 'm', '\\n', 'a', 'n', 'o', 'n', 'y', 'm', 'o', 'u', 's', 'e', '@', 'y', 'a', 'h', 'o', 'o', '.', 'c', 'o', 'm', '\\n', 'd', 'e', 'f', 'i', 'n', 'i', 't', 'e', 'l', 'y', '_', 'n', 'o', 't', '_', 'a', 'n', '_', 'a', 't', 'h', 'l', 'e', 't', 'e', '@', 'o', 'u', 't', 'l', 'o', 'o', 'k', '.', 'c', 'o', 'm', '\\n', 'd', 'r', 'o', 'p', 'o', 'u', 't', '@', 'g', 'o', 'v', '.', 'i', 'n', '\\n', 'p', 'a', 'w', '_', 'f', 'r', 'i', 'e', 'n', 'd', '@', 'o', 'u', 't', 'l', 'o', 'o', 'k', '.', 'c', 'o', 'm', '\\n', 't', 'e', 's', 't', '_', 'n', 'a', 'm', 'e', '_', 'p', 'l', 'e', 'a', 's', 'e', '_', 'i', 'g', 'n', 'o', 'r', 'e', '@', 'g', 'o', 'v', '.', 'i', 'n', '\\n', 'h', 'e', 'y', 'y', 'o', 'u', '@', 'g', 'o', 'v', '.', 'i', 'n', '\\n', 'a', '_', 'd', 'i', 's', 't', 'r', 'a', 'c', 't', 'i', 'o', 'n', '@', 'y', 'a', 'h', 'o', 'o', '.', 'c', 'o', 'm', '\\n', 't', 'h', 'e', 'g', 'o', 'd', 'f', 'a', 't', 'h', 'e', 'r', 'p', 'a', 'r', 't', '4', '@', 'g', 'o', 'v', '.', 'i', 'n', '\\n', 'u', 'n', 'f', 'r', 'i', 'e', 'n', 'd', 'm', 'e', '@', 'o', 'u', 't', 'l', 'o', 'o', 'k', '.', 'c', 'o', 'm', '\\n', 'd', 'o', 'o', 'd', 'l', 'e', 's', '@', 'g', 'm', 'a', 'i', 'l', '.', 'c', 'o', 'm', '\\n', 'f', 'l', 'u', 'f', 'f', 'y', 'c', 'o', 'o', 'k', 'i', 'e', '@', 'y', 'a', 'h', 'o', 'o', '.', 'c', 'o', 'm', '\\n', 't', 'h', 'e', 'i', 'n', 't', 'o', 'l', 'e', 'r', 'a', 'n', 't', '@', 'g', 'm', 'a', 'i', 'l', '.', 'c', 'o', 'm', '\\n', 'f', 'o', 'u', 'r', 'h', 'o', 'u', 'r', '@', 'y', 'a', 'h', 'o', 'o', '.', 'c', 'o', 'm', '\\n', 't', 'o', 'a', 's', 't', 'e', 'd', 'w', 'i', 't', 'h', 'c', 'h', 'e', 'e', 's', 'e', '@', 'g', 'm', 'a', 'i', 'l', '.', 'c', 'o', 'm', '\\n', 'f', 'u', 't', 'u', 'r', 'e', 'k', 'i', 'n', 'g', '@', 'y', 'a', 'h', 'o', 'o', '.', 'c', 'o', 'm', '\\n', 'c', 'o', 'o', 'l', 's', 'h', 'i', 'r', 't', 'b', 'r', 'u', 'h', '@', 'o', 'u', 't', 'l', 'o', 'o', 'k', '.', 'c', 'o', 'm', '\\n', 'k', 'e', 'n', 't', 'u', 'c', 'k', 'y', '@', 'y', 'a', 'h', 'o', 'o', '.', 'c', 'o', 'm', '\\n', 'c', 'h', 'o', 'c', 'o', 'l', 'a', 't', 'e', '@', 'g', 'm', 'a', 'i', 'l', '.', 'c', 'o', 'm', '\\n', 's', 'a', 'i', 'n', 't', 'b', 'r', 'o', 's', 'e', 'p', 'h', '@', 'y', 'a', 'h', 'o', 'o', '.', 'c', 'o', 'm', '\\n', 'j', 'u', 's', 't', '_', 'c', 'h', 'i', 'l', 'l', 'i', 'n', '@', 'g', 'm', 'a', 'i', 'l', '.', 'c', 'o', 'm', '\\n', 'g', 'h', 'o', 's', 't', 'f', 'a', 'c', 'e', '@', 'g', 'o', 'v', '.', 'i', 'n', '\\n', 'b', 'i', 'g', 'f', 'o', 'o', 't', 'i', 's', 'r', 'e', 'a', 'l', '@', 'y', 'a', 'h', 'o', 'o', '.', 'c', 'o', 'm', '\\n', 'n', 'e', 'w', 'b', 'i', 'e', '@', 'y', 'a', 'h', 'o', 'o', '.', 'c', 'o', 'm', '\\n', 'a', 'l', 'i', 'e', 'n', 'w', 'a', 'r', 'e', '@', 'o', 'u', 't', 'l', 'o', 'o', 'k', '.', 'c', 'o', 'm', '\\n', 'c', 'h', 'r', 'i', 's', 'h', 'e', 'm', 's', 'w', 'o', 'r', 't', 'h', '@', 'o', 'u', 't', 'l', 'o', 'o', 'k', '.', 'c', 'o', 'm', '\\n', 'n', 'a', 'c', 'h', 'o', 'c', 'h', 'e', 'e', 's', 'e', 'f', 'r', 'i', 'e', 's', '@', 'o', 'u', 't', 'l', 'o', 'o', 'k', '.', 'c', 'o', 'm', '\\n', 'r', 'e', 'g', 'i', 'n', 'a', 'g', 'e', 'o', 'r', 'g', 'e', '@', 'g', 'o', 'v', '.', 'i', 'n', '\\n', 'h', 'a', 'r', 'm', 'l', 'e', 's', 's', '_', 'p', 'o', 't', 'a', 't', 'o', '@', 'o', 'u', 't', 'l', 'o', 'o', 'k', '.', 'c', 'o', 'm', '\\n', 'f', 'r', 'o', 's', 't', 'e', 'd', 'c', 'u', 'p', 'c', 'a', 'k', 'e', '@', 'o', 'u', 't', 'l', 'o', 'o', 'k', '.', 'c', 'o', 'm', '\\n', 'a', 'v', 'o', 'c', 'a', 'd', 'o', 'r', 'a', 'b', 'l', 'e', '@', 'o', 'u', 't', 'l', 'o', 'o', 'k', '.', 'c', 'o', 'm', '\\n', 'p', 'i', 'x', 'i', 'e', '_', 'd', 'u', 's', 't', '@', 'g', 'm', 'a', 'i', 'l', '.', 'c', 'o', 'm', '\\n', 'c', 'h', 'o', 'p', 's', 'u', 'e', 'y', '@', 'y', 'a', 'h', 'o', 'o', '.', 'c', 'o', 'm', '\\n', 'i', 'r', 'o', 'n', '_', 'm', 'a', 'n', '@', 'g', 'o', 'v', '.', 'i', 'n', '\\n', 'l', 'e', 'm', 'o', 'n', '_', 'a', 'd', 'e', '@', 'o', 'u', 't', 'l', 'o', 'o', 'k', '.', 'c', 'o', 'm', '\\n', 'c', 'e', 'r', 'i', 'a', 'l', '_', 'k', 'i', 'l', 'l', 'e', 'r', '@', 'o', 'u', 't', 'l', 'o', 'o', 'k', '.', 'c', 'o', 'm', '\\n', 'l', 'i', 'g', 'h', 't', '_', 'y', 'e', 'a', 'r', '@', 'g', 'o', 'v', '.', 'i', 'n', '\\n', 'p', 'h', 'o', 'e', 'n', 'i', 'x', '@', 'o', 'u', 't', 'l', 'o', 'o', 'k', '.', 'c', 'o', 'm', '\\n', 'h', 'a', 'r', 'r', 'y', '_', 'p', 'o', 't', 't', 'e', 'r', '@', 'o', 'u', 't', 'l', 'o', 'o', 'k', '.', 'c', 'o', 'm']\n"
     ]
    }
   ],
   "source": []
  },
  {
   "cell_type": "code",
   "execution_count": null,
   "id": "c5cb470d",
   "metadata": {},
   "outputs": [],
   "source": []
  }
 ],
 "metadata": {
  "kernelspec": {
   "display_name": "Python 3 (ipykernel)",
   "language": "python",
   "name": "python3"
  },
  "language_info": {
   "codemirror_mode": {
    "name": "ipython",
    "version": 3
   },
   "file_extension": ".py",
   "mimetype": "text/x-python",
   "name": "python",
   "nbconvert_exporter": "python",
   "pygments_lexer": "ipython3",
   "version": "3.10.4"
  }
 },
 "nbformat": 4,
 "nbformat_minor": 5
}
