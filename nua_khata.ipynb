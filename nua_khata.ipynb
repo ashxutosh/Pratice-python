{
 "cells": [
  {
   "cell_type": "code",
   "execution_count": 1,
   "id": "e898b398",
   "metadata": {},
   "outputs": [
    {
     "name": "stdout",
     "output_type": "stream",
     "text": [
      "<class 'list'>\n",
      "3066029186880\n",
      "<class 'tuple'>\n",
      "3066029188352\n",
      "3066029188352\n",
      "(1, [1, 2, 3], 1, [1, 2, 3])\n"
     ]
    }
   ],
   "source": [
    "#modified\n",
    "\n",
    "j=([1, 2, 3])\n",
    "print(type(j))\n",
    "i=(1,[1, 2, 3])\n",
    "print(id(i[1]))\n",
    "i=(1,[1, 2, 3]) * 2\n",
    "i\n",
    "print(type(i))\n",
    "print(id(i[1]))\n",
    "print(id(i[3]))\n",
    "print(i)"
   ]
  },
  {
   "cell_type": "code",
   "execution_count": 2,
   "id": "1d532b86",
   "metadata": {},
   "outputs": [
    {
     "data": {
      "text/plain": [
       "(1, [1, 8, 3], 1, [1, 8, 3])"
      ]
     },
     "execution_count": 2,
     "metadata": {},
     "output_type": "execute_result"
    }
   ],
   "source": [
    "i[1][1]=8\n",
    "i"
   ]
  },
  {
   "cell_type": "code",
   "execution_count": null,
   "id": "add6a72e",
   "metadata": {},
   "outputs": [],
   "source": []
  }
 ],
 "metadata": {
  "kernelspec": {
   "display_name": "Python 3 (ipykernel)",
   "language": "python",
   "name": "python3"
  },
  "language_info": {
   "codemirror_mode": {
    "name": "ipython",
    "version": 3
   },
   "file_extension": ".py",
   "mimetype": "text/x-python",
   "name": "python",
   "nbconvert_exporter": "python",
   "pygments_lexer": "ipython3",
   "version": "3.10.4"
  }
 },
 "nbformat": 4,
 "nbformat_minor": 5
}
