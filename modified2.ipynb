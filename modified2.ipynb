{
 "cells": [
  {
   "cell_type": "code",
   "execution_count": 1,
   "id": "2ab0ddbd",
   "metadata": {},
   "outputs": [
    {
     "name": "stdout",
     "output_type": "stream",
     "text": [
      "{4, 5, 6, 7, 8}\n"
     ]
    }
   ],
   "source": [
    "list67=[4,5,6,7,8,7]\n",
    "set6=set(list67)\n",
    "print(set6)"
   ]
  },
  {
   "cell_type": "code",
   "execution_count": 2,
   "id": "ae38becf",
   "metadata": {},
   "outputs": [
    {
     "name": "stdout",
     "output_type": "stream",
     "text": [
      "7\n",
      "7\n"
     ]
    }
   ],
   "source": [
    "a=8\n",
    "b=7\n",
    "temp=a\n",
    "\n",
    "temp=b\n",
    "a=b\n",
    "print(a)\n",
    "print(b)"
   ]
  },
  {
   "cell_type": "code",
   "execution_count": null,
   "id": "ac70883a",
   "metadata": {},
   "outputs": [],
   "source": [
    "dict5={\"Ashu\":\"Thunder\",\"Somu\":\"Fire\",\"Sneha\":\"Wind\",\"Sari\":\"Water\"}\n",
    "x=input(\"Enter the name:\")\n",
    "print(dict5[x])"
   ]
  },
  {
   "cell_type": "code",
   "execution_count": null,
   "id": "467dd306",
   "metadata": {},
   "outputs": [],
   "source": []
  },
  {
   "cell_type": "code",
   "execution_count": null,
   "id": "50796608",
   "metadata": {},
   "outputs": [],
   "source": []
  }
 ],
 "metadata": {
  "kernelspec": {
   "display_name": "Python 3 (ipykernel)",
   "language": "python",
   "name": "python3"
  },
  "language_info": {
   "codemirror_mode": {
    "name": "ipython",
    "version": 3
   },
   "file_extension": ".py",
   "mimetype": "text/x-python",
   "name": "python",
   "nbconvert_exporter": "python",
   "pygments_lexer": "ipython3",
   "version": "3.10.4"
  }
 },
 "nbformat": 4,
 "nbformat_minor": 5
}
