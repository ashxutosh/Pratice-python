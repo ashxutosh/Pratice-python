{
 "cells": [
  {
   "cell_type": "code",
   "execution_count": 1,
   "id": "f9039533",
   "metadata": {},
   "outputs": [
    {
     "name": "stdout",
     "output_type": "stream",
     "text": [
      "[[1, 7, 3], [1, 7, 3]]\n"
     ]
    }
   ],
   "source": [
    "list3=[[1,2,3]]*2\n",
    "list3[1][1]=7\n",
    "print(list3)"
   ]
  },
  {
   "cell_type": "code",
   "execution_count": 2,
   "id": "c65d81f3",
   "metadata": {},
   "outputs": [
    {
     "name": "stdout",
     "output_type": "stream",
     "text": [
      "(1, [1, 2, 9], 1, [1, 2, 9], 1, [1, 2, 9])\n"
     ]
    }
   ],
   "source": [
    "tup3=(1,[1,2,3])*3\n",
    "tup3[1][2]=9\n",
    "print(tup3)"
   ]
  },
  {
   "cell_type": "code",
   "execution_count": 3,
   "id": "2bf91b76",
   "metadata": {},
   "outputs": [
    {
     "name": "stdout",
     "output_type": "stream",
     "text": [
      "[1, 0, 1, 0, 1, 0, 1, 0]\n"
     ]
    }
   ],
   "source": [
    "I=[1,2,3,4,5,6,7,8]\n",
    "value=[x&1 for x in I]\n",
    "print(value)"
   ]
  },
  {
   "cell_type": "code",
   "execution_count": null,
   "id": "e5f0c818",
   "metadata": {},
   "outputs": [],
   "source": []
  }
 ],
 "metadata": {
  "kernelspec": {
   "display_name": "Python 3 (ipykernel)",
   "language": "python",
   "name": "python3"
  },
  "language_info": {
   "codemirror_mode": {
    "name": "ipython",
    "version": 3
   },
   "file_extension": ".py",
   "mimetype": "text/x-python",
   "name": "python",
   "nbconvert_exporter": "python",
   "pygments_lexer": "ipython3",
   "version": "3.10.4"
  }
 },
 "nbformat": 4,
 "nbformat_minor": 5
}
